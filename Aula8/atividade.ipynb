{
 "cells": [
  {
   "cell_type": "code",
   "execution_count": null,
   "metadata": {},
   "outputs": [],
   "source": [
    "from matplotlib import pyplot as plt\n",
    "import numpy as np"
   ]
  },
  {
   "cell_type": "code",
   "execution_count": null,
   "metadata": {},
   "outputs": [],
   "source": [
    "entradas = [30, 50, 75]\n",
    "valores_mochila_cheia = [474, 305, 200]\n",
    "pesos_mochila_cheia = [600/600, 374/380, 238/239]\n",
    "valores_substituicao = [624, 584, 786]\n",
    "pesos_substituicao = [599/600, 370/380, 233/239]\n",
    "valores_hill_climbing = [427, 305, 200]\n",
    "pesos_hill_climbing = [557/600, 374/380, 238/239]"
   ]
  },
  {
   "cell_type": "code",
   "execution_count": null,
   "metadata": {},
   "outputs": [],
   "source": [
    "width = 0.4\n",
    "plt.bar(np.arange(len(entradas))          , valores_substituicao    , width * 2)\n",
    "plt.bar(np.arange(len(entradas)) - width/2, valores_mochila_cheia   , width)\n",
    "plt.bar(np.arange(len(entradas)) + width/2, valores_hill_climbing   , width)\n",
    "plt.legend([\"Substituição\", \"Mochila Cheia\", \"Hill Climbing\"])\n",
    "plt.title(\"Valor e peso da solução encontrada\")\n",
    "plt.xlabel(\"Quantidade de itens\")\n",
    "plt.ylabel(\"Valor\")\n",
    "plt.show()"
   ]
  },
  {
   "cell_type": "code",
   "execution_count": null,
   "metadata": {},
   "outputs": [],
   "source": []
  }
 ],
 "metadata": {
  "language_info": {
   "name": "python"
  }
 },
 "nbformat": 4,
 "nbformat_minor": 2
}
